{
 "cells": [
  {
   "cell_type": "code",
   "execution_count": 1,
   "metadata": {},
   "outputs": [
    {
     "name": "stdout",
     "output_type": "stream",
     "text": [
      "Dataset organized and annotations created.\n"
     ]
    }
   ],
   "source": [
    "import os\n",
    "import random\n",
    "import shutil\n",
    "\n",
    "# Paths\n",
    "source_dir = \"../dataset\"\n",
    "dest_dir = \"../data/trashnet\"\n",
    "\n",
    "# Define classes\n",
    "class_mapping = {\n",
    "    \"cardboard\": 0,\n",
    "    \"glass\": 1,\n",
    "    \"metal\": 2,\n",
    "    \"paper\": 3,\n",
    "    \"plastic\": 4,\n",
    "    \"trash\": 5\n",
    "}\n",
    "\n",
    "# Create the target directory structure\n",
    "for split in ['train', 'val', 'test']:\n",
    "    os.makedirs(os.path.join(dest_dir, split, 'images'), exist_ok=True)\n",
    "    os.makedirs(os.path.join(dest_dir, split, 'labels'), exist_ok=True)\n",
    "\n",
    "# Function to create a YOLO format label\n",
    "def create_label_file(label_path, class_id):\n",
    "    # YOLO format: <class_id> <x_center> <y_center> <width> <height>\n",
    "    # Assuming the object spans most of the image: centered (0.5, 0.5), with full width/height (1.0)\n",
    "    with open(label_path, 'w') as f:\n",
    "        f.write(f\"{class_id} 0.5 0.5 1.0 1.0\\n\")\n",
    "\n",
    "# Split ratios\n",
    "train_ratio = 0.7\n",
    "val_ratio = 0.2\n",
    "test_ratio = 0.1\n",
    "\n",
    "# Process each class\n",
    "for category, class_id in class_mapping.items():\n",
    "    category_dir = os.path.join(source_dir, category)\n",
    "    images = [img for img in os.listdir(category_dir) if img.endswith(\".jpg\")]\n",
    "    random.shuffle(images)\n",
    "    \n",
    "    # Calculate split sizes\n",
    "    train_size = int(len(images) * train_ratio)\n",
    "    val_size = int(len(images) * val_ratio)\n",
    "    \n",
    "    # Assign images to each split\n",
    "    train_images = images[:train_size]\n",
    "    val_images = images[train_size:train_size + val_size]\n",
    "    test_images = images[train_size + val_size:]\n",
    "\n",
    "    # Copy images and create labels for each split\n",
    "    for split, split_images in zip(['train', 'val', 'test'], [train_images, val_images, test_images]):\n",
    "        for image_file in split_images:\n",
    "            image_source_path = os.path.join(category_dir, image_file)\n",
    "            image_dest_path = os.path.join(dest_dir, split, 'images', image_file)\n",
    "            \n",
    "            # Copy image\n",
    "            shutil.copy(image_source_path, image_dest_path)\n",
    "            \n",
    "            # Create corresponding label file\n",
    "            label_file = image_file.replace('.jpg', '.txt')\n",
    "            label_dest_path = os.path.join(dest_dir, split, 'labels', label_file)\n",
    "            create_label_file(label_dest_path, class_id)\n",
    "\n",
    "print(\"Dataset organized and annotations created.\")"
   ]
  }
 ],
 "metadata": {
  "kernelspec": {
   "display_name": "venv",
   "language": "python",
   "name": "python3"
  },
  "language_info": {
   "codemirror_mode": {
    "name": "ipython",
    "version": 3
   },
   "file_extension": ".py",
   "mimetype": "text/x-python",
   "name": "python",
   "nbconvert_exporter": "python",
   "pygments_lexer": "ipython3",
   "version": "3.12.5"
  }
 },
 "nbformat": 4,
 "nbformat_minor": 2
}
